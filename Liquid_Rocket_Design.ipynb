{
 "cells": [
  {
   "cell_type": "code",
   "execution_count": 1,
   "metadata": {},
   "outputs": [],
   "source": [
    "import numpy as np\n",
    "import matplotlib.pyplot as plt"
   ]
  },
  {
   "cell_type": "markdown",
   "metadata": {},
   "source": [
    "# Liquid Propellant Rocket Engine Design\n",
    "\n",
    "This notebook is where I will be attempting a liquid rocket engine. This will enclude the decision making for all perameters and the engineering and math involved with the design. Find out the specific engineering and mathmatics involved with a theretical design.\n",
    "\n",
    "I will be referencing multiple sources for the design and will include a list at the bottom of the page."
   ]
  },
  {
   "cell_type": "markdown",
   "metadata": {},
   "source": [
    "## Propellants - 5/2020\n",
    "\n",
    "There are many liquid propellants that can be used in a rocket motor. The propellant, oxidizer and fuel both are critical to all parts of a liquid rocket engine thus a fuel needs to be desided on first. Each has its own advantages and disadvantages, ranging from combustion tempurature, maximum achievable ISP (specific impulse), combustion products and availbility. In this section will be exploring different propellants that are relievent to a first prototype hobbist.\n",
    "\n",
    "|Oxidizer/Fuel|Oxidizer $\\rho$ (g/cm$^3$)|Fuel $\\rho$ (g/cm$^3$)|Combustion pressure [psi]|Mixture Ratio|Flame Temp [$^\\circ$F]| ISP [sec]|\n",
    "|---|---|---|---|---|---|---|\n",
    "|LOX Gasoline|1.14|0.875|300|2.5|5470|242|\n",
    "|LOX & JP-4|1.14|0.82|500|2.2|5880|255|\n",
    "|LOX & Methyl Alcohol|1.14|0.786|300|1.25|5180|238|\n",
    "|LOX & Hydrogen|1.14|0.07|500|3.5|4500|363|\n",
    "\n",
    "Since the goal isn't a flight engine but more a test bed for learning and exploration, a good choice is LOX and Methyl Alcohol. Methyl Alcohol is readily availible and is relitivly cheap. Liquid oxygen isn't the easiest to source, the density of LOX is closer to Methyl alcohol then gasuous oxygen thus simplifying injector design.\n",
    "\n",
    "#### Performance comparison\n",
    "\n",
    "    place table of temp/pressure: source from nasa\n",
    "#### Methyl Alcohol\n",
    "\n",
    "The stoichiometric chemical reaction of of Methyl Alcohol and Oxygen is:\n",
    "\n",
    "$$2CH_3OH + 3O_2 \\rightarrow 2CO_2 + 4H_2O$$\n",
    "\n",
    "|Reaction Components|Molar Mass (g/mol)|Moles|\n",
    "|---|---|---|\n",
    "|Methyl Alcohol|32.04|2|\n",
    "|Liquid Oxygen|32|3|\n",
    "|Carbon Dioxide|44.01|2|\n",
    "|Water|18.015|4|\n",
    "\n",
    "Since mixing ratios will be done with mass and volume they are calculated here:"
   ]
  },
  {
   "cell_type": "code",
   "execution_count": 2,
   "metadata": {},
   "outputs": [
    {
     "name": "stdout",
     "output_type": "stream",
     "text": [
      "The Stoichiometric ratio of Methyl Alcohol and Liquid Oxygen is: 1.5 \n",
      "\n",
      "The Stoichometric ratio by volume of methyl alcohol and liquid oxygen is: 1.033\n"
     ]
    }
   ],
   "source": [
    "MA_Mm = 32.04 #g/mol molar mass of Methyl Alcohol \n",
    "LOX_Mm = 32 #g/mol molar mass of liquid oxygen (O2)\n",
    "MA_m = 2 #moles of methyl alcohol\n",
    "LOX_m = 3 #moles of liquid oxygen\n",
    "MA_d = 0.786 #g/m^3 density of methyl alcohol\n",
    "LOX_d = 1.14 #g/m^3 density of liquid oxygen\n",
    "Avo_num = 6.0221409e-23\n",
    "\n",
    "#stoichiometeric ratio\n",
    "Sto_r = LOX_m / MA_m\n",
    "print('The Stoichiometric ratio of Methyl Alcohol and Liquid Oxygen is:\\\n",
    " {:.4g} \\n'.format(Sto_r))\n",
    "\n",
    "#stoichiometeric mixuture ratio by volume\n",
    "V_MA = (MA_Mm*MA_m*Avo_num)/MA_d\n",
    "V_LOX = (LOX_Mm*LOX_m*Avo_num)/LOX_d\n",
    "V_r = V_LOX/V_MA\n",
    "print('The Stoichometric ratio by volume of methyl alcohol and liquid oxygen is:\\\n",
    " {:.4g}'.format(V_r))"
   ]
  },
  {
   "cell_type": "markdown",
   "metadata": {},
   "source": [
    "Now we know the Stoichiometric ratio we figure out the ideal ratio. Generally speaking in amature rocketry the Stoichiometric ratio is not desired since the combustion temperature will have the possiblity of melting the chamber. To prevent this the ratio is changed to be slightly fuel rich to lower the temperature. Adding to since using methyl alcohol, water can be added to further lower the temperature. This is very difficult to precisely calculate and will be part of a testing procedure."
   ]
  },
  {
   "cell_type": "markdown",
   "metadata": {},
   "source": [
    "## Thermo and Fluid Dynamic Calculations\n",
    "\n",
    "Since a rocket motor is a heat engine that converts chemical energy to velocity, many of the initial calculations that determine the area, pressure, velocity, and mass flow at all critical places (i.e. chamber, throat and exit). The goal is to create a set of equations that relate all critical control volumes to the desired thrust level, chamber pressure and mass flow rates of both LOX and methyl alcohol.\n",
    "\n",
    "    Once learned (so yeah still gotta do it on paper) Place calculations here\n",
    "    \n",
    "    "
   ]
  },
  {
   "cell_type": "markdown",
   "metadata": {},
   "source": [
    "## Design - 5/2020\n",
    "\n",
    "In any design, before any solidworks is done or any real decisions are made, a mathmatical backbone must be created to prop up the design in some semblence of reality. For Rocket engine engineering, this will include: Finding cross sectional areas given a desired thrust, finding the state variables at critical points in the engine and considering reality of building a liquid rocket engine for the first time.\n",
    "\n",
    "### Nozzle\n",
    "\n",
    "One of the most important parts of an engine is the nozzle. This determines the thrust, flow speed, chamber pressure,  expansion of exhaust gas, and the tempurature. Deciding on shape and area will be critical for a functioning engine.\n",
    "\n",
    "A clear effort should be made to allow for manufactorablity since money and knowledge is limited. \n",
    "\n",
    "### Combustion Chamber\n",
    "\n",
    "### Engine Cooling\n",
    "\n",
    "### Injector(s)"
   ]
  },
  {
   "cell_type": "markdown",
   "metadata": {},
   "source": [
    "## Simulation\n",
    "\n",
    "    NOTE: This if before any design and true calculations are done. This is pure speculation based on my limited experience and research - 5/26/2020\n",
    "\n",
    "Although simulating an entire rocket engine with everything from thermochemisty to fluid dynamics is almost impossible for even a large scale manufactorer let alone an amature, specific parts or system would certainly benefit from smaller scale simulations. For instance, once engine size and shape is generally locked in, testing the injector plate would be extremely helpful to see if the design is one the right track. Since the injector is generally only a fluid dynamics problem, simulation could work. \n",
    "\n",
    "The problem occurs when testing multi phase problems like general engine performance. A rocket engine is at its simpliest, a piston cylinder (with one wall missing), generate pressure (using heat and gas expansion) and convert that pressure into work (by converting that pressure into high velocities). One could create a fairly comprehensive mesh and the general initial conditions of heat,pressure,mass inflow and see how the engine shape fares. The information gained would be flawed because of the massive amount of assumptions need to make a smoothly running simulation but it be information gained.\n",
    "\n",
    "-A new approach should be considered. That simulation will only be used once all of the knowledge and systems are throughly understood. This will allow for design changes to be made to optimize on already calculated aspects of the design. Simulation is a tool, anyone can learn HOW to use it but it will not be useful if one does not understand WHY one is using it in the first place. \n",
    "\n",
    "    Do the math by hand and don't leave it up to chance. \n",
    "\n"
   ]
  },
  {
   "cell_type": "markdown",
   "metadata": {},
   "source": [
    "## Prelimiary Manufactoring - 5/2020\n",
    "\n",
    "    NOTE: This if before any design and true calculations are done. \n",
    "    This is pure speculation based on my limited experience and research - 5/26/2020\n",
    "\n",
    "Manufactoring will be a challenge. Especially when The budget isn't that large and the knowledge. An effort must be made to contact and talk to manufactors that have experience with brazing exotic metals, copper to inconel, which by nature is critical to the proper function of the rocket.\n",
    "\n",
    "Although by nature the engineering will dictate how the engine is made but I will list ideas here as a dump so I'm not distracted while designing the rest of it.\n",
    "\n",
    "#### Brazenly cool: \n",
    "A machined relatively thin walled copper inner tube is brazed to a stainless steel or inconel jacket. Between the inner and outer jackets are fins that act as a support transfering load from the thin walled copper to the stronger outer jacket.\n",
    "\n",
    "\n",
    "**Methodology as of 5/26/2020:** Having a copper inner jacket allows for a higher chamber temperature since the copper can transfer more energy out of the walls. The choice of stainless steel or inconel are the relative strengths.\n",
    "\n",
    "\n",
    "**Cons as of 5/26/2020:** Depending on the heat transfer rate and pressure of the chamber, machining of the copper could be extremely difficult. The entire assembly (at it simpliest) must be brazed together and would be very challenging plus might result in assembly failures.\n",
    "\n",
    "#### One button:\n",
    "A optimized design would be 3d printed out of stainless steel.\n",
    "\n",
    "\n",
    "**Methodology as of 5/27/2020:** With the proliferation of direct metal laser melting and other similar 3d printing technology, it begs the question of why not just printing the chamber/nozzle assembly as one piece. Multiple of new rocket companies have been exploring this method and have successfully employed it. Since rocket engines are inheriently complex and are extremely difficult to manufactor, the one button approach could be a very atractive method.\n",
    "\n",
    "\n",
    "**Cons as of 5/27/2020:** A large part of the cons with metal 3d printing are the cost and the totally different design methodogy. A perceived benefit of 3d printing is how the complexity of a design is totally errivant to the actual manufactoring of the part* but this can be a pitfall if observing from the point of view of a beginner. Since one doesn't actually know the \"best\" way to design an engine, the limitless* potential can lead to a path of many unknowns.\n",
    "\n",
    "*Ignoring warpage since its more to do with the actual process not necessarily the design but insever cases can effect the design \"Its a balance like everything in engineering\"\n",
    "\n",
    "*Although its popular to assume there isn't \"any\" contrants with metal additive manufactoring there are some significant ones that will result in many design contrants **will list later on** \n",
    "\n",
    "**Conclusions:** Although Additive manufactoring is very attractive, the expense and the need for more experience will mostly place it in the \"maybe in a couple prototypes bin\" or at least for now ;)."
   ]
  },
  {
   "cell_type": "markdown",
   "metadata": {},
   "source": [
    "## Sources - 5/2020\n",
    "\n",
    "ROCKETLAB, \"How to Disign, Build and Test Liquid-Fuel Rocket Engines\". 1967. PDF\n",
    "\n"
   ]
  },
  {
   "cell_type": "code",
   "execution_count": null,
   "metadata": {},
   "outputs": [],
   "source": []
  },
  {
   "cell_type": "code",
   "execution_count": null,
   "metadata": {},
   "outputs": [],
   "source": []
  },
  {
   "cell_type": "code",
   "execution_count": null,
   "metadata": {},
   "outputs": [],
   "source": []
  }
 ],
 "metadata": {
  "kernelspec": {
   "display_name": "Python 3",
   "language": "python",
   "name": "python3"
  },
  "language_info": {
   "codemirror_mode": {
    "name": "ipython",
    "version": 3
   },
   "file_extension": ".py",
   "mimetype": "text/x-python",
   "name": "python",
   "nbconvert_exporter": "python",
   "pygments_lexer": "ipython3",
   "version": "3.7.3"
  }
 },
 "nbformat": 4,
 "nbformat_minor": 2
}
