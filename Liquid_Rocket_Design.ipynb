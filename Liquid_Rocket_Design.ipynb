{
 "cells": [
  {
   "cell_type": "markdown",
   "metadata": {},
   "source": [
    "# Liquid Propellant Rocket Engine Design\n",
    "\n",
    "This notebook is where I will be attempting a liquid rocket engine. This will enclude the decision making for all perameters and the engineering and math involved with the design. Find out the specific engineering and mathmatics involved with a theretical design.\n",
    "\n",
    "I will be referencing multiple sources for the design and will include a list at the bottom of the page."
   ]
  },
  {
   "cell_type": "markdown",
   "metadata": {},
   "source": [
    "## Propellants\n",
    "\n",
    "There are many liquid propellants that can be used in a rocket motor. The propellant, oxidizer and fuel both are critical to all parts of a liquid rocket engine thus a fuel needs to be desided on first. Each has its own advantages and disadvantages, ranging from combustion tempurature, maximum achievable ISP (specific impulse), combustion products and availbility. In this section will be exploring different propellants that are relievent to a first prototype hobbist.\n",
    "\n",
    "|Oxidizer/Fuel|Oxidizer $\\rho$ (g/cm$^3$)|Fuel $\\rho$ (g/cm$^3$)|Combustion pressure [psi]|Mixture Ratio|Flame Temp [$^\\circ$F]| ISP [sec]|\n",
    "|---|---|---|---|---|---|---|\n",
    "|LOX Gasoline|1.14|0.875|300|2.5|5470|242|\n",
    "|LOX & JP-4|1.14|0.82|500|2.2|5880|255|\n",
    "|LOX & Methyl Alcohol|1.14|0.786|300|1.25|5180|238|\n",
    "|LOX & Hydrogen|1.14|0.07|500|3.5|4500|363|\n",
    "\n",
    "Since the goal isn't a flight engine but more a test bed for learning and exploration, a good choice is LOX and Methyl Alcohol. Methyl Alcohol is readily availible and is relitivly cheap. Liquid oxygen isn't the easiest to source, the density of LOX is closer to Methyl alcohol then gasuous oxygen thus simplifying injector design.\n",
    "\n",
    "#### Performance comparison\n",
    "\n",
    "    place table of temp/pressure: source from nasa\n"
   ]
  },
  {
   "cell_type": "markdown",
   "metadata": {},
   "source": [
    "## Design Calculations\n",
    "\n",
    "In any design, before any solidworks is done or any real decisions are made, a mathmatical backbone must be created to prop up the design in some semblence of reality. For Rocket engine engineering, this will include: Finding cross sectional areas given a desired thrust, finding the state variables at critical points in the engine and considering reality of building a liquid rocket engine for the first time.\n",
    "\n",
    "### Nozzle\n",
    "\n",
    "### Combustion Chamber\n",
    "\n",
    "### Engine Cooling\n",
    "\n",
    "### Injector(s)"
   ]
  },
  {
   "cell_type": "markdown",
   "metadata": {},
   "source": [
    "## Simulation\n",
    "\n",
    "Although simulating an entire rocket engine with everything from thermochemisty to fluid dynamics is almost impossible for even a large scale manufactorer let alone an amature, specific parts or system would certainly benefit from smaller scale simulations. For instance, once engine size and shape is generally locked in, testing the injector plate would be extremely helpful to see if the design is one the right track. Since the injector is generally only a fluid dynamics problem, simulation could work. \n",
    "\n",
    "The problem occurs when testing multi phase problems like general engine performance. A rocket engine is at its simpliest, a piston cylinder (with one wall missing), generate pressure (using heat and gas expansion) and convert that pressure into work (by converting that pressure into high velocities). One could create a fairly comprehensive mesh and the general initial conditions of heat,pressure,mass inflow and see how the engine shape fares. The information gained would be flawed because of the massive amount of assumptions need to make a smoothly running simulation but it be information gained.\n",
    "\n"
   ]
  },
  {
   "cell_type": "markdown",
   "metadata": {},
   "source": [
    "## Manufactoring"
   ]
  },
  {
   "cell_type": "code",
   "execution_count": null,
   "metadata": {},
   "outputs": [],
   "source": []
  }
 ],
 "metadata": {
  "kernelspec": {
   "display_name": "Python 3",
   "language": "python",
   "name": "python3"
  },
  "language_info": {
   "codemirror_mode": {
    "name": "ipython",
    "version": 3
   },
   "file_extension": ".py",
   "mimetype": "text/x-python",
   "name": "python",
   "nbconvert_exporter": "python",
   "pygments_lexer": "ipython3",
   "version": "3.7.3"
  }
 },
 "nbformat": 4,
 "nbformat_minor": 2
}
