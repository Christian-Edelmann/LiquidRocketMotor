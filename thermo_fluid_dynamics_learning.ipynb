{
 "cells": [
  {
   "cell_type": "markdown",
   "metadata": {},
   "source": [
    "# Thermo and Fluid dynamics\n",
    "\n",
    "This notebook is where I will place all my learning on how to do the calculations of the Ledaval nozzle"
   ]
  },
  {
   "cell_type": "markdown",
   "metadata": {},
   "source": [
    "## Fluid dynamics\n",
    "\n",
    "The mechanics of a converging diverging nozzle are incompressible flow. The pressure of the chamber as it converges decreases and the velocity increases. At the throat, if its a perfectly designed nozzle, the flow becomes choked and becomes sonic, lowing the pressure and tempurature more in exchange for velocity. As the nozzle diverages the sonic flow transitions to supersonic and continues to lower in pressure untill ambient.\n",
    "\n",
    "This comes from the textbook: Fox and Mcdouald's Introduction to Fluid Mechanics\n",
    "\n",
    "Continuity Equati"
   ]
  },
  {
   "cell_type": "code",
   "execution_count": null,
   "metadata": {},
   "outputs": [],
   "source": []
  }
 ],
 "metadata": {
  "kernelspec": {
   "display_name": "Python 3",
   "language": "python",
   "name": "python3"
  },
  "language_info": {
   "codemirror_mode": {
    "name": "ipython",
    "version": 3
   },
   "file_extension": ".py",
   "mimetype": "text/x-python",
   "name": "python",
   "nbconvert_exporter": "python",
   "pygments_lexer": "ipython3",
   "version": "3.7.3"
  }
 },
 "nbformat": 4,
 "nbformat_minor": 2
}
